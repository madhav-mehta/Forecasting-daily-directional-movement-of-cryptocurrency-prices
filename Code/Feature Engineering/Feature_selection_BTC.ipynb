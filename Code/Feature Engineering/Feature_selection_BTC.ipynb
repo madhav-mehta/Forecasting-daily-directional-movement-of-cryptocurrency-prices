{
 "cells": [
  {
   "cell_type": "markdown",
   "id": "13b10ed1",
   "metadata": {},
   "source": [
    "# Feature Selection"
   ]
  },
  {
   "cell_type": "markdown",
   "id": "5dfdd764",
   "metadata": {},
   "source": [
    "This was not utilized in the final thesis, due to a drop in accuracy observed after implementing the results from selection."
   ]
  },
  {
   "cell_type": "code",
   "execution_count": 1,
   "id": "68bd827d",
   "metadata": {},
   "outputs": [],
   "source": [
    "import pandas as pd\n",
    "import numpy as np\n",
    "import seaborn as sns\n",
    "import matplotlib.pyplot as plt\n",
    "from sklearn.ensemble import RandomForestClassifier\n",
    "from sklearn.model_selection import train_test_split\n"
   ]
  },
  {
   "cell_type": "code",
   "execution_count": 2,
   "id": "f7e6440e",
   "metadata": {},
   "outputs": [],
   "source": [
    "df=pd.read_csv(r'C:\\Users\\madha\\Desktop\\Dissertation\\Data\\Master Data\\Feature Engineering\\FeatureEngineered_BTC.csv')"
   ]
  },
  {
   "cell_type": "code",
   "execution_count": 3,
   "id": "82b90097",
   "metadata": {},
   "outputs": [],
   "source": [
    "df['date'] = pd.to_datetime(df['date'])\n",
    "df.sort_values(by='date', inplace=True)\n",
    "df['day_of_week'] = df['date'].dt.dayofweek"
   ]
  },
  {
   "cell_type": "code",
   "execution_count": 4,
   "id": "ee0091ee",
   "metadata": {},
   "outputs": [
    {
     "data": {
      "text/plain": [
       "Index(['date', 'name', 'open', 'high', 'low', 'close', 'volume', 'marketCap',\n",
       "       'daily_weighted_sentiment', 'comment_volume', 'BTC_trends', 'gold_spot',\n",
       "       'gspc_spot', 'ndx_spot', 'price_change', 'target', 'percent_change_24h',\n",
       "       'percent_change_3d', 'percent_change_7d', 'percent_change_14d', 'ma_7d',\n",
       "       'price_vs_ma7d', 'ma_14d', 'price_vs_ma14d', 'close_7_ema',\n",
       "       'close_14_ema', 'dx', 'adx', 'adxr', 'rsi_7', 'rsi', 'stochrsi', 'atr',\n",
       "       'mfi', 'boll', 'boll_ub', 'boll_lb', 'boll_width', 'kdjk', 'kdjd',\n",
       "       'kdj_signal', 'macd', 'macds', 'macdh', 'day_of_week'],\n",
       "      dtype='object')"
      ]
     },
     "execution_count": 4,
     "metadata": {},
     "output_type": "execute_result"
    }
   ],
   "source": [
    "df.columns"
   ]
  },
  {
   "cell_type": "code",
   "execution_count": 5,
   "id": "fd7886c1",
   "metadata": {},
   "outputs": [
    {
     "name": "stdout",
     "output_type": "stream",
     "text": [
      "Original number of features: 44\n"
     ]
    }
   ],
   "source": [
    "features = df.drop('target', axis=1)\n",
    "target = df['target']\n",
    "print(f\"Original number of features: {features.shape[1]}\")"
   ]
  },
  {
   "cell_type": "code",
   "execution_count": 6,
   "id": "164ffece",
   "metadata": {},
   "outputs": [],
   "source": [
    "corr_matrix = features.corr().abs()\n",
    "upper_tri = corr_matrix.where(np.triu(np.ones(corr_matrix.shape), k=1).astype(bool))\n",
    "to_drop = [column for column in upper_tri.columns if any(upper_tri[column] > 0.95)]"
   ]
  },
  {
   "cell_type": "code",
   "execution_count": 7,
   "id": "8d5cbbcd",
   "metadata": {},
   "outputs": [],
   "source": [
    "to_drop.append('name')\n",
    "to_drop.append('date')"
   ]
  },
  {
   "cell_type": "code",
   "execution_count": 8,
   "id": "00c4a2e5",
   "metadata": {},
   "outputs": [
    {
     "data": {
      "text/plain": [
       "['high',\n",
       " 'low',\n",
       " 'close',\n",
       " 'marketCap',\n",
       " 'ndx_spot',\n",
       " 'percent_change_24h',\n",
       " 'ma_7d',\n",
       " 'ma_14d',\n",
       " 'close_7_ema',\n",
       " 'close_14_ema',\n",
       " 'boll',\n",
       " 'boll_ub',\n",
       " 'boll_lb',\n",
       " 'macds',\n",
       " 'name',\n",
       " 'date']"
      ]
     },
     "execution_count": 8,
     "metadata": {},
     "output_type": "execute_result"
    }
   ],
   "source": [
    "to_drop"
   ]
  },
  {
   "cell_type": "code",
   "execution_count": 9,
   "id": "980cf67a",
   "metadata": {},
   "outputs": [
    {
     "name": "stdout",
     "output_type": "stream",
     "text": [
      "Features dropped: ['high', 'low', 'close', 'marketCap', 'ndx_spot', 'percent_change_24h', 'ma_7d', 'ma_14d', 'close_7_ema', 'close_14_ema', 'boll', 'boll_ub', 'boll_lb', 'macds', 'name', 'date']\n",
      "Number of features after filtering: 28\n"
     ]
    }
   ],
   "source": [
    "features_filtered = features.drop(columns=to_drop)\n",
    "print(f\"Features dropped: {to_drop}\")\n",
    "print(f\"Number of features after filtering: {features_filtered.shape[1]}\")"
   ]
  },
  {
   "cell_type": "code",
   "execution_count": 10,
   "id": "f68e6fc4",
   "metadata": {},
   "outputs": [
    {
     "name": "stdout",
     "output_type": "stream",
     "text": [
      "Features ranked by importance:\n",
      "daily_weighted_sentiment    0.052150\n",
      "percent_change_7d           0.050475\n",
      "boll_width                  0.044397\n",
      "atr                         0.042025\n",
      "price_change                0.041384\n",
      "kdjk                        0.041205\n",
      "rsi_7                       0.041003\n",
      "gold_spot                   0.039052\n",
      "adxr                        0.038719\n",
      "percent_change_3d           0.038378\n",
      "comment_volume              0.038208\n",
      "volume                      0.038153\n",
      "rsi                         0.036707\n",
      "mfi                         0.036593\n",
      "percent_change_14d          0.036573\n",
      "macdh                       0.036516\n",
      "open                        0.035894\n",
      "macd                        0.035715\n",
      "kdjd                        0.035448\n",
      "price_vs_ma7d               0.035225\n",
      "price_vs_ma14d              0.035126\n",
      "gspc_spot                   0.035040\n",
      "adx                         0.033060\n",
      "dx                          0.027891\n",
      "stochrsi                    0.026500\n",
      "day_of_week                 0.022326\n",
      "BTC_trends                  0.020985\n",
      "kdj_signal                  0.005251\n",
      "dtype: float64\n"
     ]
    }
   ],
   "source": [
    "feature_importance = RandomForestClassifier(n_estimators=100, random_state=42, n_jobs=-1)\n",
    "feature_importance.fit(features_filtered, target)\n",
    "\n",
    "importances = pd.Series(feature_importance.feature_importances_, index=features_filtered.columns)\n",
    "importances_sorted = importances.sort_values(ascending=False)\n",
    "print(\"Features ranked by importance:\")\n",
    "print(importances_sorted)"
   ]
  },
  {
   "cell_type": "code",
   "execution_count": 11,
   "id": "848e72c2",
   "metadata": {},
   "outputs": [
    {
     "name": "stdout",
     "output_type": "stream",
     "text": [
      "                     Feature          VIF\n",
      "17                       rsi  3104.321663\n",
      "16                     rsi_7  1347.545238\n",
      "6                  gspc_spot   615.665027\n",
      "5                  gold_spot   389.579512\n",
      "23                      kdjd   357.307270\n",
      "22                      kdjk   338.312468\n",
      "14                       adx   233.308719\n",
      "0                       open   202.775944\n",
      "15                      adxr   137.286404\n",
      "20                       mfi    85.842572\n",
      "19                       atr    77.117052\n",
      "12            price_vs_ma14d    48.544907\n",
      "4                 BTC_trends    42.748474\n",
      "13                        dx    38.221082\n",
      "25                      macd    33.924695\n",
      "18                  stochrsi    33.586200\n",
      "11             price_vs_ma7d    28.017480\n",
      "21                boll_width    21.681267\n",
      "10        percent_change_14d    13.621453\n",
      "1                     volume    12.793371\n",
      "26                     macdh    12.430419\n",
      "9          percent_change_7d     9.267193\n",
      "8          percent_change_3d     7.435697\n",
      "3             comment_volume     4.642399\n",
      "27               day_of_week     4.484033\n",
      "7               price_change     3.135198\n",
      "24                kdj_signal     1.306532\n",
      "2   daily_weighted_sentiment     1.259629\n"
     ]
    }
   ],
   "source": [
    "import pandas as pd\n",
    "from statsmodels.stats.outliers_influence import variance_inflation_factor\n",
    "\n",
    "def calculate_vif(df):\n",
    "    vif_data = pd.DataFrame()\n",
    "    vif_data[\"Feature\"] = df.columns\n",
    "    vif_data[\"VIF\"] = [\n",
    "        variance_inflation_factor(df.values, i) for i in range(df.shape[1])\n",
    "    ]\n",
    "    return vif_data.sort_values(by=\"VIF\", ascending=False)\n",
    "\n",
    "# Example usage\n",
    "vif_scores = calculate_vif(features_filtered)\n",
    "print(vif_scores)\n"
   ]
  },
  {
   "cell_type": "code",
   "execution_count": null,
   "id": "9d9d7183",
   "metadata": {},
   "outputs": [],
   "source": [
    "ranked_features = importances_sorted.index.tolist()\n",
    "feature_counts_to_test = range(5, len(ranked_features) + 1, 2) \n",
    "accuracies = []"
   ]
  },
  {
   "cell_type": "code",
   "execution_count": 14,
   "id": "de062803",
   "metadata": {},
   "outputs": [
    {
     "name": "stdout",
     "output_type": "stream",
     "text": [
      "Accuracy with top 5 features: 0.3571\n",
      "Accuracy with top 7 features: 0.4429\n",
      "Accuracy with top 9 features: 0.4857\n",
      "Accuracy with top 11 features: 0.4571\n",
      "Accuracy with top 13 features: 0.4429\n",
      "Accuracy with top 15 features: 0.4714\n",
      "Accuracy with top 17 features: 0.4571\n",
      "Accuracy with top 19 features: 0.4429\n",
      "Accuracy with top 21 features: 0.4286\n",
      "Accuracy with top 23 features: 0.4000\n",
      "Accuracy with top 25 features: 0.4286\n",
      "Accuracy with top 27 features: 0.3857\n"
     ]
    },
    {
     "data": {
      "image/png": "[encoded data removed]",
      "text/plain": [
       "<Figure size 1000x600 with 1 Axes>"
      ]
     },
     "metadata": {},
     "output_type": "display_data"
    }
   ],
   "source": [
    "for k in feature_counts_to_test:\n",
    "    top_k_features = ranked_features[:k]\n",
    "    X_subset = features_filtered[top_k_features]\n",
    "    \n",
    "    X_train, X_test, y_train, y_test = train_test_split(X_subset, target, test_size=0.2, random_state=42)\n",
    "    \n",
    "    model = RandomForestClassifier(n_estimators=100, random_state=42, n_jobs=-1)\n",
    "    model.fit(X_train, y_train)\n",
    "    \n",
    "    accuracy = model.score(X_test, y_test)\n",
    "    accuracies.append(accuracy)\n",
    "    print(f\"Accuracy with top {k} features: {accuracy:.4f}\")\n",
    "\n",
    "plt.figure(figsize=(10, 6))\n",
    "plt.plot(feature_counts_to_test, accuracies, marker='o', linestyle='--')\n",
    "plt.title('Model Performance vs. Number of Features')\n",
    "plt.xlabel('Number of Top Features Included')\n",
    "plt.ylabel('Model Accuracy')\n",
    "plt.grid(True)\n",
    "plt.show()"
   ]
  },
  {
   "cell_type": "markdown",
   "id": "9591b051",
   "metadata": {},
   "source": [
    "Using 9 features was recommended, however this did not yield favorable results in practical usage."
   ]
  }
 ],
 "metadata": {
  "kernelspec": {
   "display_name": "crypto",
   "language": "python",
   "name": "python3"
  },
  "language_info": {
   "codemirror_mode": {
    "name": "ipython",
    "version": 3
   },
   "file_extension": ".py",
   "mimetype": "text/x-python",
   "name": "python",
   "nbconvert_exporter": "python",
   "pygments_lexer": "ipython3",
   "version": "3.11.13"
  }
 },
 "nbformat": 4,
 "nbformat_minor": 5
}
