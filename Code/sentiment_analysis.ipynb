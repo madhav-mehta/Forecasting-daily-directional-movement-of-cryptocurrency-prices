{
 "cells": [
  {
   "cell_type": "markdown",
   "id": "746dc539",
   "metadata": {},
   "source": [
    "# Sentiment Analysis"
   ]
  },
  {
   "cell_type": "code",
   "execution_count": 1,
   "id": "27c58498",
   "metadata": {},
   "outputs": [
    {
     "name": "stderr",
     "output_type": "stream",
     "text": [
      "c:\\Users\\madha\\anaconda3\\envs\\crypto\\Lib\\site-packages\\tqdm\\auto.py:21: TqdmWarning: IProgress not found. Please update jupyter and ipywidgets. See https://ipywidgets.readthedocs.io/en/stable/user_install.html\n",
      "  from .autonotebook import tqdm as notebook_tqdm\n"
     ]
    }
   ],
   "source": [
    "import pandas as pd\n",
    "import numpy as np\n",
    "from transformers import pipeline\n",
    "import os\n",
    "import torch"
   ]
  },
  {
   "cell_type": "markdown",
   "id": "b315de83",
   "metadata": {},
   "source": [
    "Loading FinBERT model"
   ]
  },
  {
   "cell_type": "code",
   "execution_count": 2,
   "id": "3fe29ab2",
   "metadata": {},
   "outputs": [
    {
     "name": "stderr",
     "output_type": "stream",
     "text": [
      "Device set to use cpu\n"
     ]
    }
   ],
   "source": [
    "sentiment_analyzer = pipeline(\"sentiment-analysis\", model=\"ProsusAI/finbert\")"
   ]
  },
  {
   "cell_type": "code",
   "execution_count": 3,
   "id": "1b70f6dd",
   "metadata": {},
   "outputs": [],
   "source": [
    "cryptos = ['BTC', 'ETH', 'XRP']"
   ]
  },
  {
   "cell_type": "code",
   "execution_count": 4,
   "id": "bb77bc08",
   "metadata": {},
   "outputs": [],
   "source": [
    "def get_sentiment_score(text):\n",
    "\n",
    "    if not isinstance(text, str) or len(text.strip()) == 0:\n",
    "        return 0.0\n",
    "    \n",
    "    result = sentiment_analyzer(text, truncation=True, max_length=512)[0]\n",
    "    label = result['label']\n",
    "    score = result['score']\n",
    "    \n",
    "    if label == 'positive':\n",
    "        return score\n",
    "    elif label == 'negative':\n",
    "        return -score\n",
    "    else: \n",
    "        return 0.0"
   ]
  },
  {
   "cell_type": "code",
   "execution_count": 5,
   "id": "c1a2b626",
   "metadata": {},
   "outputs": [],
   "source": [
    "def weighted_average(group):\n",
    "        total_weighted_value = group['weighted_sentiment_value'].sum()\n",
    "        total_weight = group['weight'].sum()\n",
    "        return total_weighted_value / total_weight if total_weight > 0 else 0.0"
   ]
  },
  {
   "cell_type": "code",
   "execution_count": null,
   "id": "94f5270e",
   "metadata": {},
   "outputs": [
    {
     "name": "stdout",
     "output_type": "stream",
     "text": [
      "Starting processing for BTC\n",
      "Analyzing sentiment for BTC.\n",
      "Aggregating daily sentiment scores for BTC.\n",
      "\n",
      " Success! Final daily scores for BTC saved.\n",
      "Starting processing for ETH\n",
      "Analyzing sentiment for ETH.\n"
     ]
    },
    {
     "name": "stderr",
     "output_type": "stream",
     "text": [
      "C:\\Users\\madha\\AppData\\Local\\Temp\\ipykernel_27848\\2879247402.py:34: FutureWarning: DataFrameGroupBy.apply operated on the grouping columns. This behavior is deprecated, and in a future version of pandas the grouping columns will be excluded from the operation. Either pass `include_groups=False` to exclude the groupings or explicitly select the grouping columns after groupby to silence this warning.\n",
      "  daily_sentiment = daily_groups.apply(weighted_average).to_frame(name='daily_weighted_sentiment')\n"
     ]
    },
    {
     "name": "stdout",
     "output_type": "stream",
     "text": [
      "Aggregating daily sentiment scores for ETH.\n",
      "\n",
      " Success! Final daily scores for ETH saved.\n",
      "Starting processing for XRP\n",
      "Analyzing sentiment for XRP.\n"
     ]
    },
    {
     "name": "stderr",
     "output_type": "stream",
     "text": [
      "C:\\Users\\madha\\AppData\\Local\\Temp\\ipykernel_27848\\2879247402.py:34: FutureWarning: DataFrameGroupBy.apply operated on the grouping columns. This behavior is deprecated, and in a future version of pandas the grouping columns will be excluded from the operation. Either pass `include_groups=False` to exclude the groupings or explicitly select the grouping columns after groupby to silence this warning.\n",
      "  daily_sentiment = daily_groups.apply(weighted_average).to_frame(name='daily_weighted_sentiment')\n"
     ]
    },
    {
     "name": "stdout",
     "output_type": "stream",
     "text": [
      "Aggregating daily sentiment scores for XRP.\n",
      "\n",
      " Success! Final daily scores for XRP saved.\n",
      "\n",
      "\n",
      " All files have been processed successfully!\n"
     ]
    },
    {
     "name": "stderr",
     "output_type": "stream",
     "text": [
      "C:\\Users\\madha\\AppData\\Local\\Temp\\ipykernel_27848\\2879247402.py:34: FutureWarning: DataFrameGroupBy.apply operated on the grouping columns. This behavior is deprecated, and in a future version of pandas the grouping columns will be excluded from the operation. Either pass `include_groups=False` to exclude the groupings or explicitly select the grouping columns after groupby to silence this warning.\n",
      "  daily_sentiment = daily_groups.apply(weighted_average).to_frame(name='daily_weighted_sentiment')\n"
     ]
    }
   ],
   "source": [
    "for crypto in cryptos:\n",
    "    print(f\"Starting processing for {crypto}\")\n",
    "\n",
    "    input_filename = f\"reddit_data_{crypto}_24_25.csv\"\n",
    "    input_filepath = os.path.join(r'C:\\Users\\madha\\Desktop\\Dissertation\\Data\\Reddit API', input_filename)\n",
    "    \n",
    "    df = pd.read_csv(input_filepath)\n",
    "\n",
    "    df['title'] = df['title'].fillna('')\n",
    "    df['body'] = df['body'].fillna('')\n",
    "\n",
    "    df['text_to_analyze'] = np.where(\n",
    "        df['type'] == 'post', \n",
    "        df['title'] + ' ' + df['body'], \n",
    "        df['body']\n",
    "    )\n",
    "\n",
    "    print(f\"Analyzing sentiment for {crypto}.\")\n",
    "    df['sentiment_score'] = df['text_to_analyze'].apply(get_sentiment_score)\n",
    "\n",
    "\n",
    "    print(f\"Aggregating daily sentiment scores for {crypto}.\")\n",
    "    \n",
    "    # Preparing data for weighted average calculation\n",
    "    df['weight'] = np.maximum(1, df['score'])\n",
    "    df['weighted_sentiment_value'] = df['sentiment_score'] * df['weight']\n",
    "    \n",
    "    # Grouping by date\n",
    "    daily_groups = df.groupby('date')\n",
    "\n",
    "    # Apply the formula\n",
    "    daily_sentiment = daily_groups.apply(weighted_average).to_frame(name='daily_weighted_sentiment')\n",
    "    daily_sentiment['comment_volume'] = daily_groups['text_to_analyze'].count()\n",
    "    daily_sentiment.reset_index(inplace=True)\n",
    "\n",
    "\n",
    "    start_year = pd.to_datetime(daily_sentiment['date']).min().strftime('%y')\n",
    "    end_year = pd.to_datetime(daily_sentiment['date']).max().strftime('%y')\n",
    "    \n",
    "    output_filename = f\"sentiment_scores_{crypto}_{start_year}_{end_year}.csv\"\n",
    "    output_filepath = os.path.join(r'C:\\Users\\madha\\Desktop\\Dissertation\\Data\\Sentiment Scores', output_filename)\n",
    "    \n",
    "    daily_sentiment.to_csv(output_filepath, index=False, encoding='utf-8-sig')\n",
    "    \n",
    "    print(f\"\\n Final daily scores for {crypto} saved.\")\n",
    "\n",
    "print(\"\\n\\n All files have been processed successfully!\")\n"
   ]
  }
 ],
 "metadata": {
  "kernelspec": {
   "display_name": "crypto",
   "language": "python",
   "name": "python3"
  },
  "language_info": {
   "codemirror_mode": {
    "name": "ipython",
    "version": 3
   },
   "file_extension": ".py",
   "mimetype": "text/x-python",
   "name": "python",
   "nbconvert_exporter": "python",
   "pygments_lexer": "ipython3",
   "version": "3.11.13"
  }
 },
 "nbformat": 4,
 "nbformat_minor": 5
}
