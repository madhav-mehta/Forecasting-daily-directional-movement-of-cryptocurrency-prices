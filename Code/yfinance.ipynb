{
 "cells": [
  {
   "cell_type": "markdown",
   "id": "7a24d4f5",
   "metadata": {},
   "source": [
    "# Yahoo Finance Data (Gold, S&P 500, NASDAQ 100)"
   ]
  },
  {
   "cell_type": "code",
   "execution_count": 11,
   "id": "8cbd364f",
   "metadata": {},
   "outputs": [],
   "source": [
    "import yfinance as yf\n",
    "import pandas as pd\n",
    "import os\n",
    "import time"
   ]
  },
  {
   "cell_type": "code",
   "execution_count": 12,
   "id": "7126919a",
   "metadata": {},
   "outputs": [],
   "source": [
    "assets = {\n",
    "    'Gold': 'GC=F',\n",
    "    'SP500': '^GSPC',\n",
    "    'NASDAQ100': '^NDX'\n",
    "}"
   ]
  },
  {
   "cell_type": "code",
   "execution_count": 13,
   "id": "a815b568",
   "metadata": {},
   "outputs": [],
   "source": [
    "start = '2024-07-15'\n",
    "end = '2025-07-15'"
   ]
  },
  {
   "cell_type": "code",
   "execution_count": null,
   "id": "cbd6340c",
   "metadata": {},
   "outputs": [
    {
     "name": "stderr",
     "output_type": "stream",
     "text": [
      "C:\\Users\\madha\\AppData\\Local\\Temp\\ipykernel_27980\\2244424182.py:5: FutureWarning: YF.download() has changed argument auto_adjust default to True\n",
      "  data = yf.download(ticker, start=start, end=end_date_yf, interval='1d')\n",
      "[*********************100%***********************]  1 of 1 completed"
     ]
    },
    {
     "name": "stderr",
     "output_type": "stream",
     "text": [
      "\n",
      "C:\\Users\\madha\\AppData\\Local\\Temp\\ipykernel_27980\\2244424182.py:5: FutureWarning: YF.download() has changed argument auto_adjust default to True\n",
      "  data = yf.download(ticker, start=start, end=end_date_yf, interval='1d')\n",
      "[*********************100%***********************]  1 of 1 completed\n",
      "C:\\Users\\madha\\AppData\\Local\\Temp\\ipykernel_27980\\2244424182.py:5: FutureWarning: YF.download() has changed argument auto_adjust default to True\n",
      "  data = yf.download(ticker, start=start, end=end_date_yf, interval='1d')\n",
      "[*********************100%***********************]  1 of 1 completed"
     ]
    },
    {
     "name": "stdout",
     "output_type": "stream",
     "text": [
      "Fetching data for Gold :: (GC=F)\n",
      "Data for Gold extracted.\n",
      "Fetching data for SP500 :: (^GSPC)\n",
      "Data for SP500 extracted.\n",
      "Fetching data for NASDAQ100 :: (^NDX)\n",
      "Data for NASDAQ100 extracted.\n"
     ]
    },
    {
     "name": "stderr",
     "output_type": "stream",
     "text": [
      "\n"
     ]
    }
   ],
   "source": [
    "for name, ticker in assets.items():\n",
    "    print(f\"Fetching data for {name} :: ({ticker})\")\n",
    "\n",
    "    end_date_yf = (pd.to_datetime(end) + pd.Timedelta(days=1)).strftime('%Y-%m-%d')\n",
    "    data = yf.download(ticker, start=start, end=end_date_yf, interval='1d')\n",
    "    \n",
    "    if not data.empty:\n",
    "        data.reset_index(inplace=True)\n",
    "        data.columns = [str(col).lower().replace(' ', '_') for col in data.columns]\n",
    "        \n",
    "        output_filename = f\"{name}_data_24_25.csv\"\n",
    "        output_filepath = os.path.join(r'C:\\Users\\madha\\Desktop\\Dissertation\\Data\\Financial Data\\Assets', output_filename)\n",
    "        \n",
    "        data.to_csv(output_filepath, index=False)\n",
    "\n",
    "        print(f'Data for {name} extracted.')\n"
   ]
  }
 ],
 "metadata": {
  "kernelspec": {
   "display_name": "crypto",
   "language": "python",
   "name": "python3"
  },
  "language_info": {
   "codemirror_mode": {
    "name": "ipython",
    "version": 3
   },
   "file_extension": ".py",
   "mimetype": "text/x-python",
   "name": "python",
   "nbconvert_exporter": "python",
   "pygments_lexer": "ipython3",
   "version": "3.11.13"
  }
 },
 "nbformat": 4,
 "nbformat_minor": 5
}
