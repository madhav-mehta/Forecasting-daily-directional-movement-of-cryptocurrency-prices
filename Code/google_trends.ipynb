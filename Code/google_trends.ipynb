{
 "cells": [
  {
   "cell_type": "markdown",
   "id": "4b857447",
   "metadata": {},
   "source": [
    "# Google Trends"
   ]
  },
  {
   "cell_type": "code",
   "execution_count": 7,
   "id": "7ad09afb",
   "metadata": {},
   "outputs": [],
   "source": [
    "import pandas as pd\n",
    "from pytrends.request import TrendReq\n",
    "import os\n",
    "import time"
   ]
  },
  {
   "cell_type": "markdown",
   "id": "ccfcd417",
   "metadata": {},
   "source": [
    "Keywords to search for:"
   ]
  },
  {
   "cell_type": "code",
   "execution_count": 8,
   "id": "da35d00e",
   "metadata": {},
   "outputs": [],
   "source": [
    "trend_keywords = {\n",
    "    'BTC': ['Bitcoin', 'BTC', 'Bitcoin price', 'BTC price'],\n",
    "    'ETH': ['Ethereum', 'ETH', 'Ethereum price', 'ETH price'],\n",
    "    'XRP': ['XRP', 'Ripple', 'Ripple Price', 'XRP price']\n",
    "}"
   ]
  },
  {
   "cell_type": "markdown",
   "id": "e9dbb4be",
   "metadata": {},
   "source": [
    "## Main"
   ]
  },
  {
   "cell_type": "markdown",
   "id": "736ceaf4",
   "metadata": {},
   "source": [
    "Connecting to Google Trends"
   ]
  },
  {
   "cell_type": "code",
   "execution_count": 9,
   "id": "8b3609d9",
   "metadata": {},
   "outputs": [],
   "source": [
    "pytrends = TrendReq(hl='en-US', tz=0)"
   ]
  },
  {
   "cell_type": "code",
   "execution_count": 10,
   "id": "f70a34ca",
   "metadata": {},
   "outputs": [],
   "source": [
    "TIMEFRAME = '2024-07-15 2025-07-15'"
   ]
  },
  {
   "cell_type": "code",
   "execution_count": null,
   "id": "d23f8924",
   "metadata": {},
   "outputs": [],
   "source": [
    "for coin, keywords in trend_keywords.items():\n",
    "    print(f\"Starting process for {coin}\")\n",
    "    coin_trends_df = pd.DataFrame()\n",
    "\n",
    "    for keyword in keywords:\n",
    "        print(f\"  Getting data for keyword: '{keyword}'\")\n",
    "        pytrends.build_payload([keyword], cat=0, timeframe=TIMEFRAME, geo='', gprop='')\n",
    "        interest_df = pytrends.interest_over_time()\n",
    "        \n",
    "        if not interest_df.empty:\n",
    "            interest_df = interest_df.rename(columns={keyword: f\"trends_{keyword}\"})\n",
    "            \n",
    "            if coin_trends_df.empty:\n",
    "                coin_trends_df = interest_df[[f\"trends_{keyword}\"]]\n",
    "            else:\n",
    "                coin_trends_df = coin_trends_df.join(interest_df[[f\"trends_{keyword}\"]], how='outer')\n",
    "            \n",
    "        time.sleep(1)\n",
    "\n",
    "\n",
    "    if not coin_trends_df.empty:\n",
    "        final_score = f\"{coin}_trends\"\n",
    "        coin_trends_df[final_score] = coin_trends_df.max(axis=1)\n",
    "        \n",
    "        final_df = coin_trends_df[[final_score]].copy()\n",
    "        final_df.reset_index(inplace=True) \n",
    "        \n",
    "        output_filename = f\"google_trends_{coin}_24_25.csv\"\n",
    "        output_filepath = os.path.join(r'C:\\Users\\madha\\Desktop\\Dissertation\\Data\\Google Trends', output_filename)\n",
    "        \n",
    "        final_df.to_csv(output_filepath, index=False)\n",
    "        \n",
    "        print(f\"\\n Google Trends data for {coin} complete.\")\n"
   ]
  }
 ],
 "metadata": {
  "kernelspec": {
   "display_name": "crypto",
   "language": "python",
   "name": "python3"
  },
  "language_info": {
   "codemirror_mode": {
    "name": "ipython",
    "version": 3
   },
   "file_extension": ".py",
   "mimetype": "text/x-python",
   "name": "python",
   "nbconvert_exporter": "python",
   "pygments_lexer": "ipython3",
   "version": "3.11.13"
  }
 },
 "nbformat": 4,
 "nbformat_minor": 5
}
